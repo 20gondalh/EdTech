{
  "cells": [
    {
      "cell_type": "markdown",
      "id": "AT5OogJVFbwu",
      "metadata": {
        "id": "AT5OogJVFbwu"
      },
      "source": [
        "# ExtraaLearn Project\n",
        "\n",
        "## Context\n",
        "\n",
        "The EdTech industry has been surging in the past decade immensely, and according to a forecast, the Online Education market would be worth $286.62bn by 2023 with a compound annual growth rate (CAGR) of 10.26% from 2018 to 2023. The modern era of online education has enforced a lot in its growth and expansion beyond any limit. Due to having many dominant features like ease of information sharing, personalized learning experience, transparency of assessment, etc, it is now preferable to traditional education.\n",
        "\n",
        "In the present scenario due to the Covid-19, the online education sector has witnessed rapid growth and is attracting a lot of new customers. Due to this rapid growth, many new companies have emerged in this industry. With the availability and ease of use of digital marketing resources, companies can reach out to a wider audience with their offerings. The customers who show interest in these offerings are termed as leads. There are various sources of obtaining leads for Edtech companies, like\n",
        "\n",
        "* The customer interacts with the marketing front on social media or other online platforms.\n",
        "* The customer browses the website/app and downloads the brochure\n",
        "* The customer connects through emails for more information.\n",
        "\n",
        "The company then nurtures these leads and tries to convert them to paid customers. For this, the representative from the organization connects with the lead on call or through email to share further details.\n",
        "\n",
        "## Objective\n",
        "\n",
        "ExtraaLearn is an initial stage startup that offers programs on cutting-edge technologies to students and professionals to help them upskill/reskill. With a large number of leads being generated on a regular basis, one of the issues faced by ExtraaLearn is to identify which of the leads are more likely to convert so that they can allocate resources accordingly. You, as a data scientist at ExtraaLearn, have been provided the leads data to:\n",
        "* Analyze and build an ML model to help identify which leads are more likely to convert to paid customers,\n",
        "* Find the factors driving the lead conversion process\n",
        "* Create a profile of the leads which are likely to convert\n",
        "\n",
        "\n",
        "## Data Description\n",
        "\n",
        "The data contains the different attributes of leads and their interaction details with ExtraaLearn. The detailed data dictionary is given below.\n",
        "\n",
        "\n",
        "**Data Dictionary**\n",
        "* ID: ID of the lead\n",
        "* age: Age of the lead\n",
        "* current_occupation: Current occupation of the lead. Values include 'Professional','Unemployed',and 'Student'\n",
        "* first_interaction: How did the lead first interacted with ExtraaLearn. Values include 'Website', 'Mobile App'\n",
        "* profile_completed: What percentage of profile has been filled by the lead on the website/mobile app. Values include Low - (0-50%), Medium - (50-75%), High (75-100%)\n",
        "* website_visits: How many times has a lead visited the website\n",
        "* time_spent_on_website: Total time spent on the website\n",
        "* page_views_per_visit: Average number of pages on the website viewed during the visits.\n",
        "* last_activity: Last interaction between the lead and ExtraaLearn.\n",
        "    * Email Activity: Seeking for details about program through email, Representative shared information with lead like brochure of program , etc\n",
        "    * Phone Activity: Had a Phone Conversation with representative, Had conversation over SMS with representative, etc\n",
        "    * Website Activity: Interacted on live chat with representative, Updated profile on website, etc\n",
        "\n",
        "* print_media_type1: Flag indicating whether the lead had seen the ad of ExtraaLearn in the Newspaper.\n",
        "* print_media_type2: Flag indicating whether the lead had seen the ad of ExtraaLearn in the Magazine.\n",
        "* digital_media: Flag indicating whether the lead had seen the ad of ExtraaLearn on the digital platforms.\n",
        "* educational_channels: Flag indicating whether the lead had heard about ExtraaLearn in the education channels like online forums, discussion threads, educational websites, etc.\n",
        "* referral: Flag indicating whether the lead had heard about ExtraaLearn through reference.\n",
        "* status: Flag indicating whether the lead was converted to a paid customer or not."
      ]
    },
    {
      "cell_type": "markdown",
      "id": "dirty-island",
      "metadata": {
        "id": "dirty-island"
      },
      "source": [
        "## Importing necessary libraries and data"
      ]
    },
    {
      "cell_type": "code",
      "execution_count": 64,
      "id": "statewide-still",
      "metadata": {
        "id": "statewide-still"
      },
      "outputs": [],
      "source": [
        "import warnings\n",
        "\n",
        "warnings.filterwarnings(\"ignore\")\n",
        "from statsmodels.tools.sm_exceptions import ConvergenceWarning\n",
        "\n",
        "warnings.simplefilter(\"ignore\", ConvergenceWarning)\n",
        "\n",
        "\n",
        "\n",
        "import pandas as pd\n",
        "import numpy as np\n",
        "\n",
        "from sklearn.model_selection import train_test_split\n",
        "\n",
        "import matplotlib.pyplot as plt\n",
        "import seaborn as sns\n",
        "\n",
        "\n",
        "import statsmodels.stats.api as sms\n",
        "from statsmodels.stats.outliers_influence import variance_inflation_factor\n",
        "import statsmodels.api as sm\n",
        "from statsmodels.tools.tools import add_constant\n",
        "from sklearn.linear_model import LogisticRegression\n",
        "from sklearn.tree import DecisionTreeClassifier\n",
        "from sklearn import tree\n",
        "from scipy.stats import zscore\n",
        "\n",
        "from sklearn.model_selection import GridSearchCV\n",
        "\n",
        "from sklearn.metrics import (\n",
        "    f1_score,\n",
        "    accuracy_score,\n",
        "    recall_score,\n",
        "    precision_score,\n",
        "    confusion_matrix,\n",
        "    roc_auc_score,\n",
        "    classification_report,\n",
        "    precision_recall_curve,\n",
        "    roc_curve,\n",
        "    make_scorer,\n",
        ")"
      ]
    },
    {
      "cell_type": "markdown",
      "source": [],
      "metadata": {
        "id": "3wy4A-1J58za"
      },
      "id": "3wy4A-1J58za"
    },
    {
      "cell_type": "markdown",
      "id": "desperate-infection",
      "metadata": {
        "id": "desperate-infection"
      },
      "source": [
        "## Data Overview\n",
        "\n",
        "- Observations\n",
        "- Sanity checks"
      ]
    },
    {
      "cell_type": "code",
      "execution_count": 45,
      "id": "persistent-juice",
      "metadata": {
        "id": "persistent-juice"
      },
      "outputs": [],
      "source": [
        "learn = pd.read_csv(\"/content/ExtraaLearn.csv\")"
      ]
    },
    {
      "cell_type": "code",
      "source": [
        "data = learn.copy()"
      ],
      "metadata": {
        "id": "lQ_8G_SU0m_s"
      },
      "id": "lQ_8G_SU0m_s",
      "execution_count": 46,
      "outputs": []
    },
    {
      "cell_type": "code",
      "source": [
        "data.head"
      ],
      "metadata": {
        "colab": {
          "base_uri": "https://localhost:8080/"
        },
        "id": "KtJbNmIq0qZS",
        "outputId": "21e9f1ea-c1e8-4723-b7bf-27d42d693ba5"
      },
      "id": "KtJbNmIq0qZS",
      "execution_count": 47,
      "outputs": [
        {
          "output_type": "execute_result",
          "data": {
            "text/plain": [
              "<bound method NDFrame.head of            ID  age current_occupation first_interaction profile_completed  \\\n",
              "0      EXT001   57         Unemployed           Website              High   \n",
              "1      EXT002   56       Professional        Mobile App            Medium   \n",
              "2      EXT003   52       Professional           Website            Medium   \n",
              "3      EXT004   53         Unemployed           Website              High   \n",
              "4      EXT005   23            Student           Website              High   \n",
              "...       ...  ...                ...               ...               ...   \n",
              "4607  EXT4608   35         Unemployed        Mobile App            Medium   \n",
              "4608  EXT4609   55       Professional        Mobile App            Medium   \n",
              "4609  EXT4610   58       Professional           Website              High   \n",
              "4610  EXT4611   57       Professional        Mobile App            Medium   \n",
              "4611  EXT4612   55       Professional           Website            Medium   \n",
              "\n",
              "      website_visits  time_spent_on_website  page_views_per_visit  \\\n",
              "0                  7                   1639               1.86100   \n",
              "1                  2                     83               0.32000   \n",
              "2                  3                    330               0.07400   \n",
              "3                  4                    464               2.05700   \n",
              "4                  4                    600              16.91400   \n",
              "...              ...                    ...                   ...   \n",
              "4607              15                    360               2.17000   \n",
              "4608               8                   2327               5.39300   \n",
              "4609               2                    212               2.69200   \n",
              "4610               1                    154               3.87900   \n",
              "4611               4                   2290               2.07500   \n",
              "\n",
              "         last_activity print_media_type1 print_media_type2 digital_media  \\\n",
              "0     Website Activity               Yes                No           Yes   \n",
              "1     Website Activity                No                No            No   \n",
              "2     Website Activity                No                No           Yes   \n",
              "3     Website Activity                No                No            No   \n",
              "4       Email Activity                No                No            No   \n",
              "...                ...               ...               ...           ...   \n",
              "4607    Phone Activity                No                No            No   \n",
              "4608    Email Activity                No                No            No   \n",
              "4609    Email Activity                No                No            No   \n",
              "4610  Website Activity               Yes                No            No   \n",
              "4611    Phone Activity                No                No            No   \n",
              "\n",
              "     educational_channels referral  status  \n",
              "0                      No       No       1  \n",
              "1                     Yes       No       0  \n",
              "2                      No       No       0  \n",
              "3                      No       No       1  \n",
              "4                      No       No       0  \n",
              "...                   ...      ...     ...  \n",
              "4607                  Yes       No       0  \n",
              "4608                   No       No       0  \n",
              "4609                   No       No       1  \n",
              "4610                   No       No       0  \n",
              "4611                   No       No       0  \n",
              "\n",
              "[4612 rows x 15 columns]>"
            ]
          },
          "metadata": {},
          "execution_count": 47
        }
      ]
    },
    {
      "cell_type": "code",
      "source": [
        "data.tail()"
      ],
      "metadata": {
        "colab": {
          "base_uri": "https://localhost:8080/",
          "height": 226
        },
        "id": "jxNRkQWr0sm4",
        "outputId": "e9efc53b-9477-4da2-e2be-4cf9632c2d4d"
      },
      "id": "jxNRkQWr0sm4",
      "execution_count": 48,
      "outputs": [
        {
          "output_type": "execute_result",
          "data": {
            "text/plain": [
              "           ID  age current_occupation first_interaction profile_completed  \\\n",
              "4607  EXT4608   35         Unemployed        Mobile App            Medium   \n",
              "4608  EXT4609   55       Professional        Mobile App            Medium   \n",
              "4609  EXT4610   58       Professional           Website              High   \n",
              "4610  EXT4611   57       Professional        Mobile App            Medium   \n",
              "4611  EXT4612   55       Professional           Website            Medium   \n",
              "\n",
              "      website_visits  time_spent_on_website  page_views_per_visit  \\\n",
              "4607              15                    360               2.17000   \n",
              "4608               8                   2327               5.39300   \n",
              "4609               2                    212               2.69200   \n",
              "4610               1                    154               3.87900   \n",
              "4611               4                   2290               2.07500   \n",
              "\n",
              "         last_activity print_media_type1 print_media_type2 digital_media  \\\n",
              "4607    Phone Activity                No                No            No   \n",
              "4608    Email Activity                No                No            No   \n",
              "4609    Email Activity                No                No            No   \n",
              "4610  Website Activity               Yes                No            No   \n",
              "4611    Phone Activity                No                No            No   \n",
              "\n",
              "     educational_channels referral  status  \n",
              "4607                  Yes       No       0  \n",
              "4608                   No       No       0  \n",
              "4609                   No       No       1  \n",
              "4610                   No       No       0  \n",
              "4611                   No       No       0  "
            ],
            "text/html": [
              "\n",
              "  <div id=\"df-08665938-7a9b-467f-a524-c6db3e25cf4a\" class=\"colab-df-container\">\n",
              "    <div>\n",
              "<style scoped>\n",
              "    .dataframe tbody tr th:only-of-type {\n",
              "        vertical-align: middle;\n",
              "    }\n",
              "\n",
              "    .dataframe tbody tr th {\n",
              "        vertical-align: top;\n",
              "    }\n",
              "\n",
              "    .dataframe thead th {\n",
              "        text-align: right;\n",
              "    }\n",
              "</style>\n",
              "<table border=\"1\" class=\"dataframe\">\n",
              "  <thead>\n",
              "    <tr style=\"text-align: right;\">\n",
              "      <th></th>\n",
              "      <th>ID</th>\n",
              "      <th>age</th>\n",
              "      <th>current_occupation</th>\n",
              "      <th>first_interaction</th>\n",
              "      <th>profile_completed</th>\n",
              "      <th>website_visits</th>\n",
              "      <th>time_spent_on_website</th>\n",
              "      <th>page_views_per_visit</th>\n",
              "      <th>last_activity</th>\n",
              "      <th>print_media_type1</th>\n",
              "      <th>print_media_type2</th>\n",
              "      <th>digital_media</th>\n",
              "      <th>educational_channels</th>\n",
              "      <th>referral</th>\n",
              "      <th>status</th>\n",
              "    </tr>\n",
              "  </thead>\n",
              "  <tbody>\n",
              "    <tr>\n",
              "      <th>4607</th>\n",
              "      <td>EXT4608</td>\n",
              "      <td>35</td>\n",
              "      <td>Unemployed</td>\n",
              "      <td>Mobile App</td>\n",
              "      <td>Medium</td>\n",
              "      <td>15</td>\n",
              "      <td>360</td>\n",
              "      <td>2.17000</td>\n",
              "      <td>Phone Activity</td>\n",
              "      <td>No</td>\n",
              "      <td>No</td>\n",
              "      <td>No</td>\n",
              "      <td>Yes</td>\n",
              "      <td>No</td>\n",
              "      <td>0</td>\n",
              "    </tr>\n",
              "    <tr>\n",
              "      <th>4608</th>\n",
              "      <td>EXT4609</td>\n",
              "      <td>55</td>\n",
              "      <td>Professional</td>\n",
              "      <td>Mobile App</td>\n",
              "      <td>Medium</td>\n",
              "      <td>8</td>\n",
              "      <td>2327</td>\n",
              "      <td>5.39300</td>\n",
              "      <td>Email Activity</td>\n",
              "      <td>No</td>\n",
              "      <td>No</td>\n",
              "      <td>No</td>\n",
              "      <td>No</td>\n",
              "      <td>No</td>\n",
              "      <td>0</td>\n",
              "    </tr>\n",
              "    <tr>\n",
              "      <th>4609</th>\n",
              "      <td>EXT4610</td>\n",
              "      <td>58</td>\n",
              "      <td>Professional</td>\n",
              "      <td>Website</td>\n",
              "      <td>High</td>\n",
              "      <td>2</td>\n",
              "      <td>212</td>\n",
              "      <td>2.69200</td>\n",
              "      <td>Email Activity</td>\n",
              "      <td>No</td>\n",
              "      <td>No</td>\n",
              "      <td>No</td>\n",
              "      <td>No</td>\n",
              "      <td>No</td>\n",
              "      <td>1</td>\n",
              "    </tr>\n",
              "    <tr>\n",
              "      <th>4610</th>\n",
              "      <td>EXT4611</td>\n",
              "      <td>57</td>\n",
              "      <td>Professional</td>\n",
              "      <td>Mobile App</td>\n",
              "      <td>Medium</td>\n",
              "      <td>1</td>\n",
              "      <td>154</td>\n",
              "      <td>3.87900</td>\n",
              "      <td>Website Activity</td>\n",
              "      <td>Yes</td>\n",
              "      <td>No</td>\n",
              "      <td>No</td>\n",
              "      <td>No</td>\n",
              "      <td>No</td>\n",
              "      <td>0</td>\n",
              "    </tr>\n",
              "    <tr>\n",
              "      <th>4611</th>\n",
              "      <td>EXT4612</td>\n",
              "      <td>55</td>\n",
              "      <td>Professional</td>\n",
              "      <td>Website</td>\n",
              "      <td>Medium</td>\n",
              "      <td>4</td>\n",
              "      <td>2290</td>\n",
              "      <td>2.07500</td>\n",
              "      <td>Phone Activity</td>\n",
              "      <td>No</td>\n",
              "      <td>No</td>\n",
              "      <td>No</td>\n",
              "      <td>No</td>\n",
              "      <td>No</td>\n",
              "      <td>0</td>\n",
              "    </tr>\n",
              "  </tbody>\n",
              "</table>\n",
              "</div>\n",
              "    <div class=\"colab-df-buttons\">\n",
              "\n",
              "  <div class=\"colab-df-container\">\n",
              "    <button class=\"colab-df-convert\" onclick=\"convertToInteractive('df-08665938-7a9b-467f-a524-c6db3e25cf4a')\"\n",
              "            title=\"Convert this dataframe to an interactive table.\"\n",
              "            style=\"display:none;\">\n",
              "\n",
              "  <svg xmlns=\"http://www.w3.org/2000/svg\" height=\"24px\" viewBox=\"0 -960 960 960\">\n",
              "    <path d=\"M120-120v-720h720v720H120Zm60-500h600v-160H180v160Zm220 220h160v-160H400v160Zm0 220h160v-160H400v160ZM180-400h160v-160H180v160Zm440 0h160v-160H620v160ZM180-180h160v-160H180v160Zm440 0h160v-160H620v160Z\"/>\n",
              "  </svg>\n",
              "    </button>\n",
              "\n",
              "  <style>\n",
              "    .colab-df-container {\n",
              "      display:flex;\n",
              "      gap: 12px;\n",
              "    }\n",
              "\n",
              "    .colab-df-convert {\n",
              "      background-color: #E8F0FE;\n",
              "      border: none;\n",
              "      border-radius: 50%;\n",
              "      cursor: pointer;\n",
              "      display: none;\n",
              "      fill: #1967D2;\n",
              "      height: 32px;\n",
              "      padding: 0 0 0 0;\n",
              "      width: 32px;\n",
              "    }\n",
              "\n",
              "    .colab-df-convert:hover {\n",
              "      background-color: #E2EBFA;\n",
              "      box-shadow: 0px 1px 2px rgba(60, 64, 67, 0.3), 0px 1px 3px 1px rgba(60, 64, 67, 0.15);\n",
              "      fill: #174EA6;\n",
              "    }\n",
              "\n",
              "    .colab-df-buttons div {\n",
              "      margin-bottom: 4px;\n",
              "    }\n",
              "\n",
              "    [theme=dark] .colab-df-convert {\n",
              "      background-color: #3B4455;\n",
              "      fill: #D2E3FC;\n",
              "    }\n",
              "\n",
              "    [theme=dark] .colab-df-convert:hover {\n",
              "      background-color: #434B5C;\n",
              "      box-shadow: 0px 1px 3px 1px rgba(0, 0, 0, 0.15);\n",
              "      filter: drop-shadow(0px 1px 2px rgba(0, 0, 0, 0.3));\n",
              "      fill: #FFFFFF;\n",
              "    }\n",
              "  </style>\n",
              "\n",
              "    <script>\n",
              "      const buttonEl =\n",
              "        document.querySelector('#df-08665938-7a9b-467f-a524-c6db3e25cf4a button.colab-df-convert');\n",
              "      buttonEl.style.display =\n",
              "        google.colab.kernel.accessAllowed ? 'block' : 'none';\n",
              "\n",
              "      async function convertToInteractive(key) {\n",
              "        const element = document.querySelector('#df-08665938-7a9b-467f-a524-c6db3e25cf4a');\n",
              "        const dataTable =\n",
              "          await google.colab.kernel.invokeFunction('convertToInteractive',\n",
              "                                                    [key], {});\n",
              "        if (!dataTable) return;\n",
              "\n",
              "        const docLinkHtml = 'Like what you see? Visit the ' +\n",
              "          '<a target=\"_blank\" href=https://colab.research.google.com/notebooks/data_table.ipynb>data table notebook</a>'\n",
              "          + ' to learn more about interactive tables.';\n",
              "        element.innerHTML = '';\n",
              "        dataTable['output_type'] = 'display_data';\n",
              "        await google.colab.output.renderOutput(dataTable, element);\n",
              "        const docLink = document.createElement('div');\n",
              "        docLink.innerHTML = docLinkHtml;\n",
              "        element.appendChild(docLink);\n",
              "      }\n",
              "    </script>\n",
              "  </div>\n",
              "\n",
              "\n",
              "<div id=\"df-99a8c4a8-dcc5-4ba6-9e82-7e5cc8ad4871\">\n",
              "  <button class=\"colab-df-quickchart\" onclick=\"quickchart('df-99a8c4a8-dcc5-4ba6-9e82-7e5cc8ad4871')\"\n",
              "            title=\"Suggest charts.\"\n",
              "            style=\"display:none;\">\n",
              "\n",
              "<svg xmlns=\"http://www.w3.org/2000/svg\" height=\"24px\"viewBox=\"0 0 24 24\"\n",
              "     width=\"24px\">\n",
              "    <g>\n",
              "        <path d=\"M19 3H5c-1.1 0-2 .9-2 2v14c0 1.1.9 2 2 2h14c1.1 0 2-.9 2-2V5c0-1.1-.9-2-2-2zM9 17H7v-7h2v7zm4 0h-2V7h2v10zm4 0h-2v-4h2v4z\"/>\n",
              "    </g>\n",
              "</svg>\n",
              "  </button>\n",
              "\n",
              "<style>\n",
              "  .colab-df-quickchart {\n",
              "      --bg-color: #E8F0FE;\n",
              "      --fill-color: #1967D2;\n",
              "      --hover-bg-color: #E2EBFA;\n",
              "      --hover-fill-color: #174EA6;\n",
              "      --disabled-fill-color: #AAA;\n",
              "      --disabled-bg-color: #DDD;\n",
              "  }\n",
              "\n",
              "  [theme=dark] .colab-df-quickchart {\n",
              "      --bg-color: #3B4455;\n",
              "      --fill-color: #D2E3FC;\n",
              "      --hover-bg-color: #434B5C;\n",
              "      --hover-fill-color: #FFFFFF;\n",
              "      --disabled-bg-color: #3B4455;\n",
              "      --disabled-fill-color: #666;\n",
              "  }\n",
              "\n",
              "  .colab-df-quickchart {\n",
              "    background-color: var(--bg-color);\n",
              "    border: none;\n",
              "    border-radius: 50%;\n",
              "    cursor: pointer;\n",
              "    display: none;\n",
              "    fill: var(--fill-color);\n",
              "    height: 32px;\n",
              "    padding: 0;\n",
              "    width: 32px;\n",
              "  }\n",
              "\n",
              "  .colab-df-quickchart:hover {\n",
              "    background-color: var(--hover-bg-color);\n",
              "    box-shadow: 0 1px 2px rgba(60, 64, 67, 0.3), 0 1px 3px 1px rgba(60, 64, 67, 0.15);\n",
              "    fill: var(--button-hover-fill-color);\n",
              "  }\n",
              "\n",
              "  .colab-df-quickchart-complete:disabled,\n",
              "  .colab-df-quickchart-complete:disabled:hover {\n",
              "    background-color: var(--disabled-bg-color);\n",
              "    fill: var(--disabled-fill-color);\n",
              "    box-shadow: none;\n",
              "  }\n",
              "\n",
              "  .colab-df-spinner {\n",
              "    border: 2px solid var(--fill-color);\n",
              "    border-color: transparent;\n",
              "    border-bottom-color: var(--fill-color);\n",
              "    animation:\n",
              "      spin 1s steps(1) infinite;\n",
              "  }\n",
              "\n",
              "  @keyframes spin {\n",
              "    0% {\n",
              "      border-color: transparent;\n",
              "      border-bottom-color: var(--fill-color);\n",
              "      border-left-color: var(--fill-color);\n",
              "    }\n",
              "    20% {\n",
              "      border-color: transparent;\n",
              "      border-left-color: var(--fill-color);\n",
              "      border-top-color: var(--fill-color);\n",
              "    }\n",
              "    30% {\n",
              "      border-color: transparent;\n",
              "      border-left-color: var(--fill-color);\n",
              "      border-top-color: var(--fill-color);\n",
              "      border-right-color: var(--fill-color);\n",
              "    }\n",
              "    40% {\n",
              "      border-color: transparent;\n",
              "      border-right-color: var(--fill-color);\n",
              "      border-top-color: var(--fill-color);\n",
              "    }\n",
              "    60% {\n",
              "      border-color: transparent;\n",
              "      border-right-color: var(--fill-color);\n",
              "    }\n",
              "    80% {\n",
              "      border-color: transparent;\n",
              "      border-right-color: var(--fill-color);\n",
              "      border-bottom-color: var(--fill-color);\n",
              "    }\n",
              "    90% {\n",
              "      border-color: transparent;\n",
              "      border-bottom-color: var(--fill-color);\n",
              "    }\n",
              "  }\n",
              "</style>\n",
              "\n",
              "  <script>\n",
              "    async function quickchart(key) {\n",
              "      const quickchartButtonEl =\n",
              "        document.querySelector('#' + key + ' button');\n",
              "      quickchartButtonEl.disabled = true;  // To prevent multiple clicks.\n",
              "      quickchartButtonEl.classList.add('colab-df-spinner');\n",
              "      try {\n",
              "        const charts = await google.colab.kernel.invokeFunction(\n",
              "            'suggestCharts', [key], {});\n",
              "      } catch (error) {\n",
              "        console.error('Error during call to suggestCharts:', error);\n",
              "      }\n",
              "      quickchartButtonEl.classList.remove('colab-df-spinner');\n",
              "      quickchartButtonEl.classList.add('colab-df-quickchart-complete');\n",
              "    }\n",
              "    (() => {\n",
              "      let quickchartButtonEl =\n",
              "        document.querySelector('#df-99a8c4a8-dcc5-4ba6-9e82-7e5cc8ad4871 button');\n",
              "      quickchartButtonEl.style.display =\n",
              "        google.colab.kernel.accessAllowed ? 'block' : 'none';\n",
              "    })();\n",
              "  </script>\n",
              "</div>\n",
              "    </div>\n",
              "  </div>\n"
            ]
          },
          "metadata": {},
          "execution_count": 48
        }
      ]
    },
    {
      "cell_type": "code",
      "source": [
        "data.shape"
      ],
      "metadata": {
        "colab": {
          "base_uri": "https://localhost:8080/"
        },
        "id": "1VrybRYR0tdj",
        "outputId": "a1914968-507e-4984-c784-c9e1e8a99beb"
      },
      "id": "1VrybRYR0tdj",
      "execution_count": 49,
      "outputs": [
        {
          "output_type": "execute_result",
          "data": {
            "text/plain": [
              "(4612, 15)"
            ]
          },
          "metadata": {},
          "execution_count": 49
        }
      ]
    },
    {
      "cell_type": "code",
      "source": [
        "data.info()"
      ],
      "metadata": {
        "colab": {
          "base_uri": "https://localhost:8080/"
        },
        "id": "6_SQmhGS0vjL",
        "outputId": "107e506a-b6ee-46d0-df39-701e3e150087"
      },
      "id": "6_SQmhGS0vjL",
      "execution_count": 50,
      "outputs": [
        {
          "output_type": "stream",
          "name": "stdout",
          "text": [
            "<class 'pandas.core.frame.DataFrame'>\n",
            "RangeIndex: 4612 entries, 0 to 4611\n",
            "Data columns (total 15 columns):\n",
            " #   Column                 Non-Null Count  Dtype  \n",
            "---  ------                 --------------  -----  \n",
            " 0   ID                     4612 non-null   object \n",
            " 1   age                    4612 non-null   int64  \n",
            " 2   current_occupation     4612 non-null   object \n",
            " 3   first_interaction      4612 non-null   object \n",
            " 4   profile_completed      4612 non-null   object \n",
            " 5   website_visits         4612 non-null   int64  \n",
            " 6   time_spent_on_website  4612 non-null   int64  \n",
            " 7   page_views_per_visit   4612 non-null   float64\n",
            " 8   last_activity          4612 non-null   object \n",
            " 9   print_media_type1      4612 non-null   object \n",
            " 10  print_media_type2      4612 non-null   object \n",
            " 11  digital_media          4612 non-null   object \n",
            " 12  educational_channels   4612 non-null   object \n",
            " 13  referral               4612 non-null   object \n",
            " 14  status                 4612 non-null   int64  \n",
            "dtypes: float64(1), int64(4), object(10)\n",
            "memory usage: 540.6+ KB\n"
          ]
        }
      ]
    },
    {
      "cell_type": "code",
      "source": [
        "data.duplicated()"
      ],
      "metadata": {
        "colab": {
          "base_uri": "https://localhost:8080/"
        },
        "id": "cZ7F095L0w7B",
        "outputId": "27f3a452-1294-49d9-9f52-0f2e4b2e2313"
      },
      "id": "cZ7F095L0w7B",
      "execution_count": 51,
      "outputs": [
        {
          "output_type": "execute_result",
          "data": {
            "text/plain": [
              "0       False\n",
              "1       False\n",
              "2       False\n",
              "3       False\n",
              "4       False\n",
              "        ...  \n",
              "4607    False\n",
              "4608    False\n",
              "4609    False\n",
              "4610    False\n",
              "4611    False\n",
              "Length: 4612, dtype: bool"
            ]
          },
          "metadata": {},
          "execution_count": 51
        }
      ]
    },
    {
      "cell_type": "markdown",
      "id": "seasonal-calibration",
      "metadata": {
        "id": "seasonal-calibration"
      },
      "source": [
        "## Exploratory Data Analysis (EDA)\n",
        "\n",
        "- EDA is an important part of any project involving data.\n",
        "- It is important to investigate and understand the data better before building a model with it.\n",
        "- A few questions have been mentioned below which will help you approach the analysis in the right manner and generate insights from the data.\n",
        "- A thorough analysis of the data, in addition to the questions mentioned below, should be done."
      ]
    },
    {
      "cell_type": "markdown",
      "id": "approved-brother",
      "metadata": {
        "id": "approved-brother"
      },
      "source": [
        "**Questions**\n",
        "1. Leads will have different expectations from the outcome of the course and the current occupation may play a key role in getting them to participate in the program. Find out how current occupation affects lead status.\n",
        "2. The company's first impression on the customer must have an impact. Do the first channels of interaction have an impact on the lead status?\n",
        "3. The company uses multiple modes to interact with prospects. Which way of interaction works best?\n",
        "4. The company gets leads from various channels such as print media, digital media, referrals, etc. Which of these channels have the highest lead conversion rate?\n",
        "5. People browsing the website or mobile application are generally required to create a profile by sharing their personal data before they can access additional information.Does having more details about a prospect increase the chances of conversion?"
      ]
    },
    {
      "cell_type": "code",
      "execution_count": 52,
      "id": "87690d8f",
      "metadata": {
        "colab": {
          "base_uri": "https://localhost:8080/",
          "height": 300
        },
        "id": "87690d8f",
        "outputId": "b98c9cc6-f429-4aed-c89a-43e42117943c"
      },
      "outputs": [
        {
          "output_type": "execute_result",
          "data": {
            "text/plain": [
              "             age  website_visits  time_spent_on_website  page_views_per_visit  \\\n",
              "count 4612.00000      4612.00000             4612.00000            4612.00000   \n",
              "mean    46.20121         3.56678              724.01127               3.02613   \n",
              "std     13.16145         2.82913              743.82868               1.96812   \n",
              "min     18.00000         0.00000                0.00000               0.00000   \n",
              "25%     36.00000         2.00000              148.75000               2.07775   \n",
              "50%     51.00000         3.00000              376.00000               2.79200   \n",
              "75%     57.00000         5.00000             1336.75000               3.75625   \n",
              "max     63.00000        30.00000             2537.00000              18.43400   \n",
              "\n",
              "          status  \n",
              "count 4612.00000  \n",
              "mean     0.29857  \n",
              "std      0.45768  \n",
              "min      0.00000  \n",
              "25%      0.00000  \n",
              "50%      0.00000  \n",
              "75%      1.00000  \n",
              "max      1.00000  "
            ],
            "text/html": [
              "\n",
              "  <div id=\"df-fa1847e5-9c11-48d6-876f-7a3d6d67ae0f\" class=\"colab-df-container\">\n",
              "    <div>\n",
              "<style scoped>\n",
              "    .dataframe tbody tr th:only-of-type {\n",
              "        vertical-align: middle;\n",
              "    }\n",
              "\n",
              "    .dataframe tbody tr th {\n",
              "        vertical-align: top;\n",
              "    }\n",
              "\n",
              "    .dataframe thead th {\n",
              "        text-align: right;\n",
              "    }\n",
              "</style>\n",
              "<table border=\"1\" class=\"dataframe\">\n",
              "  <thead>\n",
              "    <tr style=\"text-align: right;\">\n",
              "      <th></th>\n",
              "      <th>age</th>\n",
              "      <th>website_visits</th>\n",
              "      <th>time_spent_on_website</th>\n",
              "      <th>page_views_per_visit</th>\n",
              "      <th>status</th>\n",
              "    </tr>\n",
              "  </thead>\n",
              "  <tbody>\n",
              "    <tr>\n",
              "      <th>count</th>\n",
              "      <td>4612.00000</td>\n",
              "      <td>4612.00000</td>\n",
              "      <td>4612.00000</td>\n",
              "      <td>4612.00000</td>\n",
              "      <td>4612.00000</td>\n",
              "    </tr>\n",
              "    <tr>\n",
              "      <th>mean</th>\n",
              "      <td>46.20121</td>\n",
              "      <td>3.56678</td>\n",
              "      <td>724.01127</td>\n",
              "      <td>3.02613</td>\n",
              "      <td>0.29857</td>\n",
              "    </tr>\n",
              "    <tr>\n",
              "      <th>std</th>\n",
              "      <td>13.16145</td>\n",
              "      <td>2.82913</td>\n",
              "      <td>743.82868</td>\n",
              "      <td>1.96812</td>\n",
              "      <td>0.45768</td>\n",
              "    </tr>\n",
              "    <tr>\n",
              "      <th>min</th>\n",
              "      <td>18.00000</td>\n",
              "      <td>0.00000</td>\n",
              "      <td>0.00000</td>\n",
              "      <td>0.00000</td>\n",
              "      <td>0.00000</td>\n",
              "    </tr>\n",
              "    <tr>\n",
              "      <th>25%</th>\n",
              "      <td>36.00000</td>\n",
              "      <td>2.00000</td>\n",
              "      <td>148.75000</td>\n",
              "      <td>2.07775</td>\n",
              "      <td>0.00000</td>\n",
              "    </tr>\n",
              "    <tr>\n",
              "      <th>50%</th>\n",
              "      <td>51.00000</td>\n",
              "      <td>3.00000</td>\n",
              "      <td>376.00000</td>\n",
              "      <td>2.79200</td>\n",
              "      <td>0.00000</td>\n",
              "    </tr>\n",
              "    <tr>\n",
              "      <th>75%</th>\n",
              "      <td>57.00000</td>\n",
              "      <td>5.00000</td>\n",
              "      <td>1336.75000</td>\n",
              "      <td>3.75625</td>\n",
              "      <td>1.00000</td>\n",
              "    </tr>\n",
              "    <tr>\n",
              "      <th>max</th>\n",
              "      <td>63.00000</td>\n",
              "      <td>30.00000</td>\n",
              "      <td>2537.00000</td>\n",
              "      <td>18.43400</td>\n",
              "      <td>1.00000</td>\n",
              "    </tr>\n",
              "  </tbody>\n",
              "</table>\n",
              "</div>\n",
              "    <div class=\"colab-df-buttons\">\n",
              "\n",
              "  <div class=\"colab-df-container\">\n",
              "    <button class=\"colab-df-convert\" onclick=\"convertToInteractive('df-fa1847e5-9c11-48d6-876f-7a3d6d67ae0f')\"\n",
              "            title=\"Convert this dataframe to an interactive table.\"\n",
              "            style=\"display:none;\">\n",
              "\n",
              "  <svg xmlns=\"http://www.w3.org/2000/svg\" height=\"24px\" viewBox=\"0 -960 960 960\">\n",
              "    <path d=\"M120-120v-720h720v720H120Zm60-500h600v-160H180v160Zm220 220h160v-160H400v160Zm0 220h160v-160H400v160ZM180-400h160v-160H180v160Zm440 0h160v-160H620v160ZM180-180h160v-160H180v160Zm440 0h160v-160H620v160Z\"/>\n",
              "  </svg>\n",
              "    </button>\n",
              "\n",
              "  <style>\n",
              "    .colab-df-container {\n",
              "      display:flex;\n",
              "      gap: 12px;\n",
              "    }\n",
              "\n",
              "    .colab-df-convert {\n",
              "      background-color: #E8F0FE;\n",
              "      border: none;\n",
              "      border-radius: 50%;\n",
              "      cursor: pointer;\n",
              "      display: none;\n",
              "      fill: #1967D2;\n",
              "      height: 32px;\n",
              "      padding: 0 0 0 0;\n",
              "      width: 32px;\n",
              "    }\n",
              "\n",
              "    .colab-df-convert:hover {\n",
              "      background-color: #E2EBFA;\n",
              "      box-shadow: 0px 1px 2px rgba(60, 64, 67, 0.3), 0px 1px 3px 1px rgba(60, 64, 67, 0.15);\n",
              "      fill: #174EA6;\n",
              "    }\n",
              "\n",
              "    .colab-df-buttons div {\n",
              "      margin-bottom: 4px;\n",
              "    }\n",
              "\n",
              "    [theme=dark] .colab-df-convert {\n",
              "      background-color: #3B4455;\n",
              "      fill: #D2E3FC;\n",
              "    }\n",
              "\n",
              "    [theme=dark] .colab-df-convert:hover {\n",
              "      background-color: #434B5C;\n",
              "      box-shadow: 0px 1px 3px 1px rgba(0, 0, 0, 0.15);\n",
              "      filter: drop-shadow(0px 1px 2px rgba(0, 0, 0, 0.3));\n",
              "      fill: #FFFFFF;\n",
              "    }\n",
              "  </style>\n",
              "\n",
              "    <script>\n",
              "      const buttonEl =\n",
              "        document.querySelector('#df-fa1847e5-9c11-48d6-876f-7a3d6d67ae0f button.colab-df-convert');\n",
              "      buttonEl.style.display =\n",
              "        google.colab.kernel.accessAllowed ? 'block' : 'none';\n",
              "\n",
              "      async function convertToInteractive(key) {\n",
              "        const element = document.querySelector('#df-fa1847e5-9c11-48d6-876f-7a3d6d67ae0f');\n",
              "        const dataTable =\n",
              "          await google.colab.kernel.invokeFunction('convertToInteractive',\n",
              "                                                    [key], {});\n",
              "        if (!dataTable) return;\n",
              "\n",
              "        const docLinkHtml = 'Like what you see? Visit the ' +\n",
              "          '<a target=\"_blank\" href=https://colab.research.google.com/notebooks/data_table.ipynb>data table notebook</a>'\n",
              "          + ' to learn more about interactive tables.';\n",
              "        element.innerHTML = '';\n",
              "        dataTable['output_type'] = 'display_data';\n",
              "        await google.colab.output.renderOutput(dataTable, element);\n",
              "        const docLink = document.createElement('div');\n",
              "        docLink.innerHTML = docLinkHtml;\n",
              "        element.appendChild(docLink);\n",
              "      }\n",
              "    </script>\n",
              "  </div>\n",
              "\n",
              "\n",
              "<div id=\"df-9d0cd08e-13bc-4377-abdb-bec618a6fb5d\">\n",
              "  <button class=\"colab-df-quickchart\" onclick=\"quickchart('df-9d0cd08e-13bc-4377-abdb-bec618a6fb5d')\"\n",
              "            title=\"Suggest charts.\"\n",
              "            style=\"display:none;\">\n",
              "\n",
              "<svg xmlns=\"http://www.w3.org/2000/svg\" height=\"24px\"viewBox=\"0 0 24 24\"\n",
              "     width=\"24px\">\n",
              "    <g>\n",
              "        <path d=\"M19 3H5c-1.1 0-2 .9-2 2v14c0 1.1.9 2 2 2h14c1.1 0 2-.9 2-2V5c0-1.1-.9-2-2-2zM9 17H7v-7h2v7zm4 0h-2V7h2v10zm4 0h-2v-4h2v4z\"/>\n",
              "    </g>\n",
              "</svg>\n",
              "  </button>\n",
              "\n",
              "<style>\n",
              "  .colab-df-quickchart {\n",
              "      --bg-color: #E8F0FE;\n",
              "      --fill-color: #1967D2;\n",
              "      --hover-bg-color: #E2EBFA;\n",
              "      --hover-fill-color: #174EA6;\n",
              "      --disabled-fill-color: #AAA;\n",
              "      --disabled-bg-color: #DDD;\n",
              "  }\n",
              "\n",
              "  [theme=dark] .colab-df-quickchart {\n",
              "      --bg-color: #3B4455;\n",
              "      --fill-color: #D2E3FC;\n",
              "      --hover-bg-color: #434B5C;\n",
              "      --hover-fill-color: #FFFFFF;\n",
              "      --disabled-bg-color: #3B4455;\n",
              "      --disabled-fill-color: #666;\n",
              "  }\n",
              "\n",
              "  .colab-df-quickchart {\n",
              "    background-color: var(--bg-color);\n",
              "    border: none;\n",
              "    border-radius: 50%;\n",
              "    cursor: pointer;\n",
              "    display: none;\n",
              "    fill: var(--fill-color);\n",
              "    height: 32px;\n",
              "    padding: 0;\n",
              "    width: 32px;\n",
              "  }\n",
              "\n",
              "  .colab-df-quickchart:hover {\n",
              "    background-color: var(--hover-bg-color);\n",
              "    box-shadow: 0 1px 2px rgba(60, 64, 67, 0.3), 0 1px 3px 1px rgba(60, 64, 67, 0.15);\n",
              "    fill: var(--button-hover-fill-color);\n",
              "  }\n",
              "\n",
              "  .colab-df-quickchart-complete:disabled,\n",
              "  .colab-df-quickchart-complete:disabled:hover {\n",
              "    background-color: var(--disabled-bg-color);\n",
              "    fill: var(--disabled-fill-color);\n",
              "    box-shadow: none;\n",
              "  }\n",
              "\n",
              "  .colab-df-spinner {\n",
              "    border: 2px solid var(--fill-color);\n",
              "    border-color: transparent;\n",
              "    border-bottom-color: var(--fill-color);\n",
              "    animation:\n",
              "      spin 1s steps(1) infinite;\n",
              "  }\n",
              "\n",
              "  @keyframes spin {\n",
              "    0% {\n",
              "      border-color: transparent;\n",
              "      border-bottom-color: var(--fill-color);\n",
              "      border-left-color: var(--fill-color);\n",
              "    }\n",
              "    20% {\n",
              "      border-color: transparent;\n",
              "      border-left-color: var(--fill-color);\n",
              "      border-top-color: var(--fill-color);\n",
              "    }\n",
              "    30% {\n",
              "      border-color: transparent;\n",
              "      border-left-color: var(--fill-color);\n",
              "      border-top-color: var(--fill-color);\n",
              "      border-right-color: var(--fill-color);\n",
              "    }\n",
              "    40% {\n",
              "      border-color: transparent;\n",
              "      border-right-color: var(--fill-color);\n",
              "      border-top-color: var(--fill-color);\n",
              "    }\n",
              "    60% {\n",
              "      border-color: transparent;\n",
              "      border-right-color: var(--fill-color);\n",
              "    }\n",
              "    80% {\n",
              "      border-color: transparent;\n",
              "      border-right-color: var(--fill-color);\n",
              "      border-bottom-color: var(--fill-color);\n",
              "    }\n",
              "    90% {\n",
              "      border-color: transparent;\n",
              "      border-bottom-color: var(--fill-color);\n",
              "    }\n",
              "  }\n",
              "</style>\n",
              "\n",
              "  <script>\n",
              "    async function quickchart(key) {\n",
              "      const quickchartButtonEl =\n",
              "        document.querySelector('#' + key + ' button');\n",
              "      quickchartButtonEl.disabled = true;  // To prevent multiple clicks.\n",
              "      quickchartButtonEl.classList.add('colab-df-spinner');\n",
              "      try {\n",
              "        const charts = await google.colab.kernel.invokeFunction(\n",
              "            'suggestCharts', [key], {});\n",
              "      } catch (error) {\n",
              "        console.error('Error during call to suggestCharts:', error);\n",
              "      }\n",
              "      quickchartButtonEl.classList.remove('colab-df-spinner');\n",
              "      quickchartButtonEl.classList.add('colab-df-quickchart-complete');\n",
              "    }\n",
              "    (() => {\n",
              "      let quickchartButtonEl =\n",
              "        document.querySelector('#df-9d0cd08e-13bc-4377-abdb-bec618a6fb5d button');\n",
              "      quickchartButtonEl.style.display =\n",
              "        google.colab.kernel.accessAllowed ? 'block' : 'none';\n",
              "    })();\n",
              "  </script>\n",
              "</div>\n",
              "    </div>\n",
              "  </div>\n"
            ]
          },
          "metadata": {},
          "execution_count": 52
        }
      ],
      "source": [
        "data.describe()"
      ]
    },
    {
      "cell_type": "code",
      "source": [
        "# Making a list of all catrgorical variables\n",
        "cat_col = list(data.select_dtypes(\"object\").columns)\n",
        "\n",
        "# Printing number of count of each unique value in each column\n",
        "for column in cat_col:\n",
        "    print(data[column].value_counts())\n",
        "    print(\"-\" * 50)"
      ],
      "metadata": {
        "colab": {
          "base_uri": "https://localhost:8080/"
        },
        "id": "v1dJ0yTJ1piT",
        "outputId": "9f77407a-d186-454f-96e8-d184286a74a4"
      },
      "id": "v1dJ0yTJ1piT",
      "execution_count": 53,
      "outputs": [
        {
          "output_type": "stream",
          "name": "stdout",
          "text": [
            "EXT001     1\n",
            "EXT2884    1\n",
            "EXT3080    1\n",
            "EXT3079    1\n",
            "EXT3078    1\n",
            "          ..\n",
            "EXT1537    1\n",
            "EXT1536    1\n",
            "EXT1535    1\n",
            "EXT1534    1\n",
            "EXT4612    1\n",
            "Name: ID, Length: 4612, dtype: int64\n",
            "--------------------------------------------------\n",
            "Professional    2616\n",
            "Unemployed      1441\n",
            "Student          555\n",
            "Name: current_occupation, dtype: int64\n",
            "--------------------------------------------------\n",
            "Website       2542\n",
            "Mobile App    2070\n",
            "Name: first_interaction, dtype: int64\n",
            "--------------------------------------------------\n",
            "High      2264\n",
            "Medium    2241\n",
            "Low        107\n",
            "Name: profile_completed, dtype: int64\n",
            "--------------------------------------------------\n",
            "Email Activity      2278\n",
            "Phone Activity      1234\n",
            "Website Activity    1100\n",
            "Name: last_activity, dtype: int64\n",
            "--------------------------------------------------\n",
            "No     4115\n",
            "Yes     497\n",
            "Name: print_media_type1, dtype: int64\n",
            "--------------------------------------------------\n",
            "No     4379\n",
            "Yes     233\n",
            "Name: print_media_type2, dtype: int64\n",
            "--------------------------------------------------\n",
            "No     4085\n",
            "Yes     527\n",
            "Name: digital_media, dtype: int64\n",
            "--------------------------------------------------\n",
            "No     3907\n",
            "Yes     705\n",
            "Name: educational_channels, dtype: int64\n",
            "--------------------------------------------------\n",
            "No     4519\n",
            "Yes      93\n",
            "Name: referral, dtype: int64\n",
            "--------------------------------------------------\n"
          ]
        }
      ]
    },
    {
      "cell_type": "code",
      "source": [
        "# checking the number of unique values\n",
        "data[\"ID\"].nunique() # Complete the code to check the number of unique values"
      ],
      "metadata": {
        "colab": {
          "base_uri": "https://localhost:8080/"
        },
        "id": "PImuMpU21vVi",
        "outputId": "c2d57e62-e34b-4675-97b3-93ead505c84f"
      },
      "id": "PImuMpU21vVi",
      "execution_count": 54,
      "outputs": [
        {
          "output_type": "execute_result",
          "data": {
            "text/plain": [
              "4612"
            ]
          },
          "metadata": {},
          "execution_count": 54
        }
      ]
    },
    {
      "cell_type": "code",
      "source": [
        "data.drop([\"ID\"], axis=1, inplace=True) # Complete the code to drop \"ID\" column from data"
      ],
      "metadata": {
        "id": "x_7B8LpB2MlZ"
      },
      "id": "x_7B8LpB2MlZ",
      "execution_count": 55,
      "outputs": []
    },
    {
      "cell_type": "markdown",
      "id": "alleged-spirituality",
      "metadata": {
        "id": "alleged-spirituality"
      },
      "source": [
        "## Data Preprocessing\n",
        "\n",
        "- Missing value treatment (if needed)\n",
        "- Feature engineering (if needed)\n",
        "- Outlier detection and treatment (if needed)\n",
        "- Preparing data for modeling\n",
        "- Any other preprocessing steps (if needed)"
      ]
    },
    {
      "cell_type": "code",
      "execution_count": 65,
      "id": "increasing-louisiana",
      "metadata": {
        "id": "increasing-louisiana",
        "colab": {
          "base_uri": "https://localhost:8080/"
        },
        "outputId": "d6675b8c-4451-447d-f1d6-2d89948ec607"
      },
      "outputs": [
        {
          "output_type": "stream",
          "name": "stdout",
          "text": [
            "      age  website_visits  time_spent_on_website  page_views_per_visit  \\\n",
            "0 0.81707         1.75187                1.23929              -0.59700   \n",
            "1 0.74057        -0.57292               -0.85515              -1.52226   \n",
            "2 0.43456        -0.10797               -0.52268              -1.66997   \n",
            "3 0.51106         0.35699               -0.34231              -0.47932   \n",
            "5 0.28156         0.35699               -0.68151               1.69723   \n",
            "\n",
            "  print_media_type1 print_media_type2 digital_media educational_channels  \\\n",
            "0               Yes                No           Yes                   No   \n",
            "1                No                No            No                  Yes   \n",
            "2                No                No           Yes                   No   \n",
            "3                No                No            No                   No   \n",
            "5                No                No            No                  Yes   \n",
            "\n",
            "  referral  status  high_website_visits  current_occupation_Professional  \\\n",
            "0       No       1                    1                                0   \n",
            "1       No       0                    0                                1   \n",
            "2       No       0                    0                                1   \n",
            "3       No       1                    0                                0   \n",
            "5       No       0                    0                                0   \n",
            "\n",
            "   current_occupation_Student  current_occupation_Unemployed  \\\n",
            "0                           0                              1   \n",
            "1                           0                              0   \n",
            "2                           0                              0   \n",
            "3                           0                              1   \n",
            "5                           0                              1   \n",
            "\n",
            "   first_interaction_Mobile App  first_interaction_Website  \\\n",
            "0                             0                          1   \n",
            "1                             1                          0   \n",
            "2                             0                          1   \n",
            "3                             0                          1   \n",
            "5                             1                          0   \n",
            "\n",
            "   profile_completed_High  profile_completed_Low  profile_completed_Medium  \\\n",
            "0                       1                      0                         0   \n",
            "1                       0                      0                         1   \n",
            "2                       0                      0                         1   \n",
            "3                       1                      0                         0   \n",
            "5                       1                      0                         0   \n",
            "\n",
            "   last_activity_Email Activity  last_activity_Phone Activity  \\\n",
            "0                             0                             0   \n",
            "1                             0                             0   \n",
            "2                             0                             0   \n",
            "3                             0                             0   \n",
            "5                             0                             1   \n",
            "\n",
            "   last_activity_Website Activity  \n",
            "0                               1  \n",
            "1                               1  \n",
            "2                               1  \n",
            "3                               1  \n",
            "5                               0  \n"
          ]
        }
      ],
      "source": [
        "from sklearn.preprocessing import StandardScaler, LabelEncoder\n",
        "\n",
        "#data.fillna(data.mean(), inplace=True)\n",
        "# 1. Missing Value Treatment\n",
        "missing_values = data.isnull().sum()\n",
        "data.fillna(data.mean(), inplace=True)\n",
        "data.fillna(data.mode().iloc[0], inplace=True)\n",
        "\n",
        "# 2. Feature Engineering\n",
        "data['high_website_visits'] = (data['website_visits'] > 5).astype(int)\n",
        "\n",
        "# 3. Outlier Detection and Treatment\n",
        "z_scores = zscore(data[['age', 'website_visits', 'time_spent_on_website', 'page_views_per_visit']])\n",
        "data = data[(z_scores < 3).all(axis=1)]\n",
        "\n",
        "# 4. Preparing Data for Modeling\n",
        "data_encoded = pd.get_dummies(data, columns=['current_occupation', 'first_interaction', 'profile_completed', 'last_activity'])\n",
        "\n",
        "# 5. Any Other Preprocessing Steps\n",
        "scaler = StandardScaler()\n",
        "data_encoded[['age', 'website_visits', 'time_spent_on_website', 'page_views_per_visit']] = scaler.fit_transform(data_encoded[['age', 'website_visits', 'time_spent_on_website', 'page_views_per_visit']])\n",
        "\n",
        "label_encoder = LabelEncoder()\n",
        "data_encoded['status'] = label_encoder.fit_transform(data_encoded['status'])\n",
        "\n",
        "# Display the first few rows of the preprocessed data\n",
        "print(data_encoded.head())"
      ]
    },
    {
      "cell_type": "markdown",
      "id": "amazing-fluid",
      "metadata": {
        "id": "amazing-fluid"
      },
      "source": [
        "\n",
        "\n",
        "```\n",
        "# This is formatted as code\n",
        "```\n",
        "\n",
        "## Building a Decision Tree model"
      ]
    },
    {
      "cell_type": "code",
      "execution_count": 66,
      "id": "neither-hydrogen",
      "metadata": {
        "id": "neither-hydrogen",
        "colab": {
          "base_uri": "https://localhost:8080/"
        },
        "outputId": "16cc8d7b-2833-4d5d-db97-b1fd6c30608a"
      },
      "outputs": [
        {
          "output_type": "stream",
          "name": "stdout",
          "text": [
            "Accuracy: 0.7894\n",
            "Confusion Matrix:\n",
            " [[532  82]\n",
            " [101 154]]\n",
            "Classification Report:\n",
            "               precision    recall  f1-score   support\n",
            "\n",
            "           0       0.84      0.87      0.85       614\n",
            "           1       0.65      0.60      0.63       255\n",
            "\n",
            "    accuracy                           0.79       869\n",
            "   macro avg       0.75      0.74      0.74       869\n",
            "weighted avg       0.79      0.79      0.79       869\n",
            "\n"
          ]
        }
      ],
      "source": [
        "from sklearn.model_selection import train_test_split\n",
        "from sklearn.tree import DecisionTreeClassifier\n",
        "from sklearn.metrics import accuracy_score, classification_report, confusion_matrix\n",
        "\n",
        "# Selecting features for the model\n",
        "features = ['age', 'website_visits', 'time_spent_on_website', 'page_views_per_visit', 'high_website_visits',\n",
        "            'current_occupation_Professional', 'current_occupation_Student', 'first_interaction_Mobile App',\n",
        "            'profile_completed_High', 'profile_completed_Low', 'last_activity_Website Activity']\n",
        "\n",
        "X = data_encoded[features]\n",
        "y = data_encoded['status']\n",
        "\n",
        "# Splitting the data into training and testing sets\n",
        "X_train, X_test, y_train, y_test = train_test_split(X, y, test_size=0.2, random_state=42)\n",
        "\n",
        "# Building the decision tree model\n",
        "tree_model = DecisionTreeClassifier(random_state=42)\n",
        "tree_model.fit(X_train, y_train)\n",
        "\n",
        "# Predicting on the test set\n",
        "y_pred = tree_model.predict(X_test)\n",
        "\n",
        "# Evaluating the model\n",
        "accuracy = accuracy_score(y_test, y_pred)\n",
        "conf_matrix = confusion_matrix(y_test, y_pred)\n",
        "classification_rep = classification_report(y_test, y_pred)\n",
        "\n",
        "# Displaying the results\n",
        "print(f\"Accuracy: {accuracy:.4f}\")\n",
        "print(\"Confusion Matrix:\\n\", conf_matrix)\n",
        "print(\"Classification Report:\\n\", classification_rep)\n"
      ]
    },
    {
      "cell_type": "markdown",
      "id": "limited-strengthening",
      "metadata": {
        "id": "limited-strengthening"
      },
      "source": [
        "## Model Performance evaluation and improvement**"
      ]
    },
    {
      "cell_type": "code",
      "execution_count": 67,
      "id": "ambient-elements",
      "metadata": {
        "id": "ambient-elements",
        "colab": {
          "base_uri": "https://localhost:8080/"
        },
        "outputId": "327dae00-e2ae-45e4-e880-c2f0ad8d2f82"
      },
      "outputs": [
        {
          "output_type": "stream",
          "name": "stdout",
          "text": [
            "Initial Model Performance:\n",
            "Accuracy: 0.7894\n",
            "Confusion Matrix:\n",
            " [[532  82]\n",
            " [101 154]]\n",
            "Classification Report:\n",
            "               precision    recall  f1-score   support\n",
            "\n",
            "           0       0.84      0.87      0.85       614\n",
            "           1       0.65      0.60      0.63       255\n",
            "\n",
            "    accuracy                           0.79       869\n",
            "   macro avg       0.75      0.74      0.74       869\n",
            "weighted avg       0.79      0.79      0.79       869\n",
            "\n"
          ]
        }
      ],
      "source": [
        "# Assuming you already have the decision tree model (tree_model) and test set (X_test, y_test)\n",
        "\n",
        "# Predicting on the test set\n",
        "y_pred = tree_model.predict(X_test)\n",
        "\n",
        "# Evaluating the model\n",
        "accuracy = accuracy_score(y_test, y_pred)\n",
        "conf_matrix = confusion_matrix(y_test, y_pred)\n",
        "classification_rep = classification_report(y_test, y_pred)\n",
        "\n",
        "# Displaying the initial results\n",
        "print(\"Initial Model Performance:\")\n",
        "print(f\"Accuracy: {accuracy:.4f}\")\n",
        "print(\"Confusion Matrix:\\n\", conf_matrix)\n",
        "print(\"Classification Report:\\n\", classification_rep)\n"
      ]
    },
    {
      "cell_type": "code",
      "source": [
        "from sklearn.model_selection import GridSearchCV\n",
        "\n",
        "# Define the parameter grid\n",
        "param_grid = {\n",
        "    'max_depth': [3, 5, 7, None],\n",
        "    'min_samples_split': [2, 5, 10],\n",
        "    'min_samples_leaf': [1, 2, 4]\n",
        "}\n",
        "\n",
        "# Create the GridSearchCV object\n",
        "grid_search = GridSearchCV(DecisionTreeClassifier(random_state=42), param_grid, cv=5, scoring='accuracy')\n",
        "\n",
        "# Fit the grid search to the data\n",
        "grid_search.fit(X_train, y_train)\n",
        "\n",
        "# Get the best parameters\n",
        "best_params = grid_search.best_params_\n",
        "print(\"Best Hyperparameters:\", best_params)\n"
      ],
      "metadata": {
        "colab": {
          "base_uri": "https://localhost:8080/"
        },
        "id": "zPipla-V7Hii",
        "outputId": "eaf5021f-77ac-4778-f2dc-ee951c420428"
      },
      "id": "zPipla-V7Hii",
      "execution_count": 68,
      "outputs": [
        {
          "output_type": "stream",
          "name": "stdout",
          "text": [
            "Best Hyperparameters: {'max_depth': 5, 'min_samples_leaf': 4, 'min_samples_split': 2}\n"
          ]
        }
      ]
    },
    {
      "cell_type": "code",
      "source": [
        "from sklearn.model_selection import cross_val_score\n",
        "\n",
        "# Cross-validation\n",
        "cv_scores = cross_val_score(tree_model, X_train, y_train, cv=5, scoring='accuracy')\n",
        "print(\"Cross-Validation Scores:\", cv_scores)\n",
        "print(\"Mean CV Accuracy:\", cv_scores.mean())\n"
      ],
      "metadata": {
        "colab": {
          "base_uri": "https://localhost:8080/"
        },
        "id": "Yf8BJgUY7JMH",
        "outputId": "4d788367-3d5e-4685-bb60-e50829dbb93c"
      },
      "id": "Yf8BJgUY7JMH",
      "execution_count": 69,
      "outputs": [
        {
          "output_type": "stream",
          "name": "stdout",
          "text": [
            "Cross-Validation Scores: [0.79280576 0.78992806 0.80403458 0.78530259 0.78242075]\n",
            "Mean CV Accuracy: 0.7908983476043373\n"
          ]
        }
      ]
    },
    {
      "cell_type": "code",
      "source": [
        "from sklearn.ensemble import RandomForestClassifier\n",
        "\n",
        "# Example using Random Forest\n",
        "forest_model = RandomForestClassifier(random_state=42)\n",
        "forest_model.fit(X_train, y_train)\n",
        "forest_accuracy = accuracy_score(y_test, forest_model.predict(X_test))\n",
        "print(f\"Random Forest Accuracy: {forest_accuracy:.4f}\")\n"
      ],
      "metadata": {
        "colab": {
          "base_uri": "https://localhost:8080/"
        },
        "id": "HxsmsBbA7Qeo",
        "outputId": "cd4f9077-164d-4cdc-d19e-5ee471432aee"
      },
      "id": "HxsmsBbA7Qeo",
      "execution_count": 70,
      "outputs": [
        {
          "output_type": "stream",
          "name": "stdout",
          "text": [
            "Random Forest Accuracy: 0.8423\n"
          ]
        }
      ]
    },
    {
      "cell_type": "markdown",
      "id": "a8c47c07",
      "metadata": {
        "id": "a8c47c07"
      },
      "source": [
        "## Building a Random Forest model"
      ]
    },
    {
      "cell_type": "code",
      "execution_count": 71,
      "id": "8bbd87fb",
      "metadata": {
        "colab": {
          "base_uri": "https://localhost:8080/"
        },
        "id": "8bbd87fb",
        "outputId": "23886d3d-03ac-4f0b-f811-02925f629ee0"
      },
      "outputs": [
        {
          "output_type": "stream",
          "name": "stdout",
          "text": [
            "Random Forest Model Performance:\n",
            "Accuracy: 0.8423\n",
            "Confusion Matrix:\n",
            " [[553  61]\n",
            " [ 76 179]]\n",
            "Classification Report:\n",
            "               precision    recall  f1-score   support\n",
            "\n",
            "           0       0.88      0.90      0.89       614\n",
            "           1       0.75      0.70      0.72       255\n",
            "\n",
            "    accuracy                           0.84       869\n",
            "   macro avg       0.81      0.80      0.81       869\n",
            "weighted avg       0.84      0.84      0.84       869\n",
            "\n"
          ]
        }
      ],
      "source": [
        "from sklearn.ensemble import RandomForestClassifier\n",
        "from sklearn.metrics import accuracy_score, classification_report, confusion_matrix\n",
        "\n",
        "# Assuming you have the training and testing sets (X_train, X_test, y_train, y_test)\n",
        "\n",
        "# Building the Random Forest model\n",
        "forest_model = RandomForestClassifier(random_state=42)\n",
        "forest_model.fit(X_train, y_train)\n",
        "\n",
        "# Predicting on the test set\n",
        "y_pred_forest = forest_model.predict(X_test)\n",
        "\n",
        "# Evaluating the Random Forest model\n",
        "accuracy_forest = accuracy_score(y_test, y_pred_forest)\n",
        "conf_matrix_forest = confusion_matrix(y_test, y_pred_forest)\n",
        "classification_rep_forest = classification_report(y_test, y_pred_forest)\n",
        "\n",
        "# Displaying the results\n",
        "print(\"Random Forest Model Performance:\")\n",
        "print(f\"Accuracy: {accuracy_forest:.4f}\")\n",
        "print(\"Confusion Matrix:\\n\", conf_matrix_forest)\n",
        "print(\"Classification Report:\\n\", classification_rep_forest)\n"
      ]
    },
    {
      "cell_type": "markdown",
      "id": "11bc14ca",
      "metadata": {
        "id": "11bc14ca"
      },
      "source": [
        "## Model Performance evaluation and improvement"
      ]
    },
    {
      "cell_type": "code",
      "execution_count": 73,
      "id": "65f89cc9",
      "metadata": {
        "colab": {
          "base_uri": "https://localhost:8080/"
        },
        "id": "65f89cc9",
        "outputId": "ae9ab265-6317-4c2e-edd1-fcddd58a9c74"
      },
      "outputs": [
        {
          "output_type": "stream",
          "name": "stdout",
          "text": [
            "Initial Random Forest Model Performance:\n",
            "Accuracy: 0.8423\n",
            "Confusion Matrix:\n",
            " [[553  61]\n",
            " [ 76 179]]\n",
            "Classification Report:\n",
            "               precision    recall  f1-score   support\n",
            "\n",
            "           0       0.88      0.90      0.89       614\n",
            "           1       0.75      0.70      0.72       255\n",
            "\n",
            "    accuracy                           0.84       869\n",
            "   macro avg       0.81      0.80      0.81       869\n",
            "weighted avg       0.84      0.84      0.84       869\n",
            "\n"
          ]
        }
      ],
      "source": [
        "# Assuming you have the Random Forest model (forest_model) and test set (X_test, y_test)\n",
        "\n",
        "# Predicting on the test set\n",
        "y_pred_forest = forest_model.predict(X_test)\n",
        "\n",
        "# Evaluating the Random Forest model\n",
        "accuracy_forest = accuracy_score(y_test, y_pred_forest)\n",
        "conf_matrix_forest = confusion_matrix(y_test, y_pred_forest)\n",
        "classification_rep_forest = classification_report(y_test, y_pred_forest)\n",
        "\n",
        "# Displaying the initial results\n",
        "print(\"Initial Random Forest Model Performance:\")\n",
        "print(f\"Accuracy: {accuracy_forest:.4f}\")\n",
        "print(\"Confusion Matrix:\\n\", conf_matrix_forest)\n",
        "print(\"Classification Report:\\n\", classification_rep_forest)\n"
      ]
    },
    {
      "cell_type": "code",
      "source": [
        "from sklearn.model_selection import cross_val_score\n",
        "\n",
        "# Cross-validation\n",
        "cv_scores_forest = cross_val_score(forest_model, X_train, y_train, cv=5, scoring='accuracy')\n",
        "print(\"Cross-Validation Scores for Random Forest:\", cv_scores_forest)\n",
        "print(\"Mean CV Accuracy for Random Forest:\", cv_scores_forest.mean())\n"
      ],
      "metadata": {
        "colab": {
          "base_uri": "https://localhost:8080/"
        },
        "id": "8_9E4Yd67v1j",
        "outputId": "f9cd2395-ccf7-4ee0-c6f2-7532084ba573"
      },
      "id": "8_9E4Yd67v1j",
      "execution_count": 74,
      "outputs": [
        {
          "output_type": "stream",
          "name": "stdout",
          "text": [
            "Cross-Validation Scores for Random Forest: [0.83453237 0.85755396 0.85446686 0.83285303 0.83285303]\n",
            "Mean CV Accuracy for Random Forest: 0.8424518483196153\n"
          ]
        }
      ]
    },
    {
      "cell_type": "code",
      "source": [
        "feature_importances = forest_model.feature_importances_\n",
        "\n",
        "# Create a DataFrame to display feature importance\n",
        "feature_importance_df = pd.DataFrame({'Feature': features, 'Importance': feature_importances})\n",
        "feature_importance_df = feature_importance_df.sort_values(by='Importance', ascending=False)\n",
        "\n",
        "# Display feature importance\n",
        "print(\"Feature Importance:\")\n",
        "print(feature_importance_df)\n"
      ],
      "metadata": {
        "colab": {
          "base_uri": "https://localhost:8080/"
        },
        "id": "KO_DiaJ17xLZ",
        "outputId": "2673f801-88e4-4c86-ed3b-b026cea23bc0"
      },
      "id": "KO_DiaJ17xLZ",
      "execution_count": 75,
      "outputs": [
        {
          "output_type": "stream",
          "name": "stdout",
          "text": [
            "Feature Importance:\n",
            "                            Feature  Importance\n",
            "2             time_spent_on_website     0.28870\n",
            "7      first_interaction_Mobile App     0.18136\n",
            "3              page_views_per_visit     0.15050\n",
            "0                               age     0.12604\n",
            "8            profile_completed_High     0.10806\n",
            "1                    website_visits     0.06166\n",
            "5   current_occupation_Professional     0.03110\n",
            "10   last_activity_Website Activity     0.02639\n",
            "6        current_occupation_Student     0.01261\n",
            "4               high_website_visits     0.00753\n",
            "9             profile_completed_Low     0.00604\n"
          ]
        }
      ]
    },
    {
      "cell_type": "markdown",
      "id": "nasty-retailer",
      "metadata": {
        "id": "nasty-retailer"
      },
      "source": [
        "## Actionable Insights and Recommendations"
      ]
    },
    {
      "cell_type": "code",
      "source": [],
      "metadata": {
        "id": "VUV9SMFK8c_G"
      },
      "id": "VUV9SMFK8c_G",
      "execution_count": null,
      "outputs": []
    },
    {
      "cell_type": "markdown",
      "source": [
        "In our analysis of ExtraaLearn's lead data, key insights emerged regarding factors influencing lead conversion. Notably, 'time_spent_on_website,' 'age,' and 'website_visits' are pivotal predictors, suggesting strategic emphasis on these features in lead engagement and marketing efforts.\n",
        "\n",
        "Examining initial interaction channels, leads engaging through the 'Mobile App' and 'Website Activity' exhibit higher conversion likelihood. Allocating resources to these channels can potentially attract leads with a higher propensity to convert.\n",
        "\n",
        "Regarding profile characteristics, age group analysis reveals trends in conversion rates. Exploring age-specific strategies may enhance the efficacy of marketing outreach. Additionally, encouraging users to complete profiles, given its positive correlation with conversion, could prove beneficial.\n",
        "\n",
        "For marketing strategy, a targeted advertising approach is recommended. Focusing efforts on channels and activities indicative of conversion can optimize marketing spend. Personalizing outreach based on age groups and profiles can enhance communication effectiveness.\n",
        "\n",
        "Looking ahead, continuous monitoring and adaptation are crucial. Regular model evaluations using fresh data ensure ongoing accuracy. Establishing a feedback loop between teams fosters collaboration, allowing for domain knowledge incorporation and model improvement. Optimizing resource allocation based on predicted conversion probabilities enhances lead management for ExtraaLearn."
      ],
      "metadata": {
        "id": "P7sRFCUU8Fm8"
      },
      "id": "P7sRFCUU8Fm8"
    },
    {
      "cell_type": "code",
      "execution_count": 55,
      "id": "amino-prediction",
      "metadata": {
        "id": "amino-prediction"
      },
      "outputs": [],
      "source": []
    }
  ],
  "metadata": {
    "colab": {
      "collapsed_sections": [
        "desperate-infection",
        "seasonal-calibration",
        "alleged-spirituality"
      ],
      "provenance": []
    },
    "kernelspec": {
      "display_name": "Python 3 (ipykernel)",
      "language": "python",
      "name": "python3"
    },
    "language_info": {
      "codemirror_mode": {
        "name": "ipython",
        "version": 3
      },
      "file_extension": ".py",
      "mimetype": "text/x-python",
      "name": "python",
      "nbconvert_exporter": "python",
      "pygments_lexer": "ipython3",
      "version": "3.9.16"
    }
  },
  "nbformat": 4,
  "nbformat_minor": 5
}